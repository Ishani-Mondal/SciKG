{
 "cells": [
  {
   "cell_type": "code",
   "execution_count": 1,
   "metadata": {},
   "outputs": [
    {
     "ename": "FileNotFoundError",
     "evalue": "[WinError 3] The system cannot find the path specified: '/mnt/c/Users/D.MONDAL/Downloads/tdm-kg-new/tdm-kg/ACLAnthTill2015_Prediction'",
     "output_type": "error",
     "traceback": [
      "\u001b[1;31m---------------------------------------------------------------------------\u001b[0m",
      "\u001b[1;31mFileNotFoundError\u001b[0m                         Traceback (most recent call last)",
      "\u001b[1;32m<ipython-input-1-28ed5ba79fa1>\u001b[0m in \u001b[0;36m<module>\u001b[1;34m\u001b[0m\n\u001b[0;32m      1\u001b[0m \u001b[1;32mimport\u001b[0m \u001b[0mos\u001b[0m\u001b[1;33m,\u001b[0m \u001b[0mglob\u001b[0m\u001b[1;33m\u001b[0m\u001b[1;33m\u001b[0m\u001b[0m\n\u001b[1;32m----> 2\u001b[1;33m \u001b[0mos\u001b[0m\u001b[1;33m.\u001b[0m\u001b[0mchdir\u001b[0m\u001b[1;33m(\u001b[0m\u001b[1;34m\"/mnt/c/Users/D.MONDAL/Downloads/tdm-kg-new/tdm-kg/ACLAnthTill2015_Prediction\"\u001b[0m\u001b[1;33m)\u001b[0m\u001b[1;33m\u001b[0m\u001b[1;33m\u001b[0m\u001b[0m\n\u001b[0m\u001b[0;32m      3\u001b[0m \u001b[1;33m\u001b[0m\u001b[0m\n\u001b[0;32m      4\u001b[0m \u001b[0mnames\u001b[0m\u001b[1;33m=\u001b[0m\u001b[1;33m[\u001b[0m\u001b[1;33m]\u001b[0m\u001b[1;33m\u001b[0m\u001b[1;33m\u001b[0m\u001b[0m\n\u001b[0;32m      5\u001b[0m \u001b[0mtime_dict\u001b[0m\u001b[1;33m=\u001b[0m\u001b[1;33m{\u001b[0m\u001b[1;33m}\u001b[0m\u001b[1;33m\u001b[0m\u001b[1;33m\u001b[0m\u001b[0m\n",
      "\u001b[1;31mFileNotFoundError\u001b[0m: [WinError 3] The system cannot find the path specified: '/mnt/c/Users/D.MONDAL/Downloads/tdm-kg-new/tdm-kg/ACLAnthTill2015_Prediction'"
     ]
    }
   ],
   "source": [
    "import os, glob\n",
    "os.chdir(\"/mnt/c/Users/D.MONDAL/Downloads/tdm-kg-new/tdm-kg/ACLAnthTill2015_Prediction\")\n",
    "\n",
    "names=[]\n",
    "time_dict={}\n",
    "for name in glob.glob('*'):\n",
    "    if(name.startswith(\"A\") or name.startswith(\"D\") or name.startswith(\"E\")\n",
    "    or name.startswith(\"J\") or name.startswith(\"N\") or name.startswith(\"P\") or name.startswith(\"S\") or name.startswith(\"W\")):\n",
    "        if(int(name[1:][0])>=6):\n",
    "            names.append(int(\"19\"+str(name[1:])))\n",
    "            year=\"19\"+str(name[1:])\n",
    "            time_dict[year]=[]\n",
    "            os.chdir(\"/mnt/c/Users/D.MONDAL/Downloads/tdm-kg-new/tdm-kg/ACLAnthTill2015_Prediction/\"+str(name))\n",
    "            #for f in glob.glob('*'):\n",
    "                #print(f)\n",
    "        else:\n",
    "            names.append(int(\"20\"+str(name[1:])))\n",
    "            time_dict[\"20\"+str(name[1:])]=[]\n",
    "\n",
    "os.chdir(\"/mnt/c/Users/D.MONDAL/Downloads/tdm-kg-new/tdm-kg/ACLAnthTill2015_Prediction\")\n",
    "\n",
    "for name in glob.glob('*'):\n",
    "    if(name.startswith(\"A\") or name.startswith(\"D\") or name.startswith(\"E\")\n",
    "    or name.startswith(\"J\") or name.startswith(\"N\") or name.startswith(\"P\") or name.startswith(\"S\") or name.startswith(\"W\")):\n",
    "        if(int(name[1:][0])>=6):\n",
    "            names.append(int(\"19\"+str(name[1:])))\n",
    "            year=\"19\"+str(name[1:])\n",
    "            time_dict[year]=[]\n",
    "            os.chdir(\"/mnt/c/Users/D.MONDAL/Downloads/tdm-kg-new/tdm-kg/ACLAnthTill2015_Prediction/\"+str(name))\n",
    "            for f in glob.glob('*'):\n",
    "                time_dict[\"19\"+str(name[1:])].append(\"/mnt/c/Users/D.MONDAL/Downloads/tdm-kg-new/tdm-kg/ACLAnthTill2015_Prediction/\"+name+\"/\"+f)\n",
    "        else:\n",
    "            os.chdir(\"/mnt/c/Users/D.MONDAL/Downloads/tdm-kg-new/tdm-kg/ACLAnthTill2015_Prediction/\"+str(name))\n",
    "            names.append(int(\"20\"+str(name[1:])))\n",
    "            for f in glob.glob('*'):\n",
    "                time_dict[\"20\"+str(name[1:])].append(\"/mnt/c/Users/D.MONDAL/Downloads/tdm-kg-new/tdm-kg/ACLAnthTill2015_Prediction/\"+name+\"/\"+f)\n",
    "            \n",
    "names.sort(reverse = True)\n",
    "import collections\n",
    "od = collections.OrderedDict(sorted(time_dict.items()))\n",
    "i=1\n",
    "for key, value in od.items():\n",
    "    if(i%4==0):\n",
    "        print(\"=============\")\n",
    "    print(key, len(value))\n",
    "    i=i+1\n",
    "\n",
    "print(\"+==================\")\n",
    "\n",
    "plots_tasks_year_before={}\n",
    "plots_datasets_year_before={}\n",
    "plots_metrics_year_before={}\n"
   ]
  },
  {
   "cell_type": "code",
   "execution_count": null,
   "metadata": {},
   "outputs": [],
   "source": []
  }
 ],
 "metadata": {
  "kernelspec": {
   "display_name": "Python 3",
   "language": "python",
   "name": "python3"
  },
  "language_info": {
   "codemirror_mode": {
    "name": "ipython",
    "version": 3
   },
   "file_extension": ".py",
   "mimetype": "text/x-python",
   "name": "python",
   "nbconvert_exporter": "python",
   "pygments_lexer": "ipython3",
   "version": "3.8.5"
  }
 },
 "nbformat": 4,
 "nbformat_minor": 4
}
